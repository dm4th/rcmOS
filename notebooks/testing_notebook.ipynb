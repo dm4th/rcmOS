{
 "cells": [
  {
   "cell_type": "code",
   "execution_count": null,
   "metadata": {},
   "outputs": [],
   "source": [
    "# Import necessary packages\n",
    "import os\n",
    "import time\n",
    "import numpy as np\n",
    "import pandas as pd\n",
    "\n",
    "# Import Screen Capture & OS info Packages\n",
    "import pyautogui\n",
    "\n",
    "# Import Image Processing Packages\n",
    "import cv2\n",
    "\n",
    "# Import Video Conversion Packages\n",
    "import moviepy.editor as mp\n",
    "import moviepy.config as cfg\n",
    "cfg.change_settings({\"FFMPEG_ARGUMENTS\": \"-analyzeduration 100000000 -probesize 1000000000\"})\n",
    "\n",
    "# Import OCR Packages\n",
    "import pytesseract"
   ]
  },
  {
   "cell_type": "code",
   "execution_count": null,
   "metadata": {},
   "outputs": [],
   "source": [
    "# Create Recordings Directories\n",
    "if not os.path.exists('./recordings'):\n",
    "    os.makedirs('./recordings')\n",
    "\n",
    "sub_directories = ['testing']\n",
    "file_formats = ['avi', 'mp4']\n",
    "\n",
    "for sub_directory in sub_directories:\n",
    "    for file_format in file_formats:\n",
    "        if not os.path.exists('./recordings/' + sub_directory + '/' + file_format):\n",
    "            os.makedirs('./recordings/' + sub_directory + '/' + file_format)"
   ]
  },
  {
   "cell_type": "code",
   "execution_count": null,
   "metadata": {},
   "outputs": [],
   "source": [
    "# initialize screen recording counts\n",
    "initial_count = 0"
   ]
  },
  {
   "cell_type": "code",
   "execution_count": null,
   "metadata": {},
   "outputs": [],
   "source": [
    "# Create VideoWriter Objects\n",
    "fourcc = cv2.VideoWriter_fourcc(*'H264')\n",
    "resolution = (1920, 1080)\n",
    "filename = './recordings/testing/avi/initial_recording_' + str(initial_count) + '.avi'\n",
    "fps = 24.0\n",
    "out = cv2.VideoWriter(filename, fourcc, fps, resolution)\n",
    "\n",
    "# Start Screen Recording\n",
    "# Take a Screen grab, add to recording every 1/24 seconds\n",
    "# Record for 20 seconds\n",
    "prev = 0\n",
    "start_time = time.time()\n",
    "while True:\n",
    "    elapsed_time = time.time() - prev\n",
    "    capture = pyautogui.screenshot()\n",
    "    if elapsed_time > 1./fps:\n",
    "        prev = time.time()\n",
    "        frame = np.array(capture)\n",
    "        frame = cv2.cvtColor(frame, cv2.COLOR_BGR2RGB)\n",
    "        out.write(frame)\n",
    "\n",
    "    if time.time() - start_time > 5:\n",
    "        break\n",
    "\n",
    "# Release VideoWriter Objects\n",
    "out.release()\n",
    "\n",
    "# Convert AVI to MP4\n",
    "clip = mp.VideoFileClip(filename)\n",
    "clip.write_videofile('./recordings/testing/mp4/initial_recording_' + str(initial_count) + '.mp4')    "
   ]
  },
  {
   "cell_type": "code",
   "execution_count": null,
   "metadata": {},
   "outputs": [],
   "source": []
  },
  {
   "cell_type": "code",
   "execution_count": 1,
   "metadata": {},
   "outputs": [
    {
     "ename": "SyntaxError",
     "evalue": "incomplete input (2861606257.py, line 2)",
     "output_type": "error",
     "traceback": [
      "\u001b[0;36m  Cell \u001b[0;32mIn[1], line 2\u001b[0;36m\u001b[0m\n\u001b[0;31m    while True:\u001b[0m\n\u001b[0m               ^\u001b[0m\n\u001b[0;31mSyntaxError\u001b[0m\u001b[0;31m:\u001b[0m incomplete input\n"
     ]
    }
   ],
   "source": []
  },
  {
   "cell_type": "code",
   "execution_count": null,
   "metadata": {},
   "outputs": [],
   "source": []
  }
 ],
 "metadata": {
  "kernelspec": {
   "display_name": "Python 3 (ipykernel)",
   "language": "python",
   "name": "python3"
  },
  "language_info": {
   "codemirror_mode": {
    "name": "ipython",
    "version": 3
   },
   "file_extension": ".py",
   "mimetype": "text/x-python",
   "name": "python",
   "nbconvert_exporter": "python",
   "pygments_lexer": "ipython3",
   "version": "3.11.2"
  }
 },
 "nbformat": 4,
 "nbformat_minor": 2
}
